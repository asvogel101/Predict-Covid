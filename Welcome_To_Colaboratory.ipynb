{
  "nbformat": 4,
  "nbformat_minor": 0,
  "metadata": {
    "colab": {
      "name": "Welcome To Colaboratory",
      "provenance": [],
      "collapsed_sections": [],
      "toc_visible": true,
      "include_colab_link": true
    },
    "kernelspec": {
      "display_name": "Python 3",
      "name": "python3"
    },
    "accelerator": "GPU"
  },
  "cells": [
    {
      "cell_type": "markdown",
      "metadata": {
        "id": "view-in-github",
        "colab_type": "text"
      },
      "source": [
        "<a href=\"https://colab.research.google.com/github/asvogel101/Predict-Covid/blob/master/Welcome_To_Colaboratory.ipynb\" target=\"_parent\"><img src=\"https://colab.research.google.com/assets/colab-badge.svg\" alt=\"Open In Colab\"/></a>"
      ]
    },
    {
      "cell_type": "markdown",
      "metadata": {
        "id": "5fCEDCU_qrC0"
      },
      "source": [
        "<p><img alt=\"Colaboratory logo\" height=\"45px\" src=\"/img/colab_favicon.ico\" align=\"left\" hspace=\"10px\" vspace=\"0px\"></p>\n",
        "\n",
        "<h1>What is Colaboratory?</h1>\n",
        "\n",
        "Colaboratory, or \"Colab\" for short, allows you to write and execute Python in your browser, with \n",
        "- Zero configuration required\n",
        "- Free access to GPUs\n",
        "- Easy sharing\n",
        "\n",
        "Whether you're a **student**, a **data scientist** or an **AI researcher**, Colab can make your work easier. Watch [Introduction to Colab](https://www.youtube.com/watch?v=inN8seMm7UI) to learn more, or just get started below!"
      ]
    },
    {
      "cell_type": "markdown",
      "metadata": {
        "id": "GJBs_flRovLc"
      },
      "source": [
        "## **Getting started**\n",
        "\n",
        "The document you are reading is not a static web page, but an interactive environment called a **Colab notebook** that lets you write and execute code.\n",
        "\n",
        "For example, here is a **code cell** with a short Python script that computes a value, stores it in a variable, and prints the result:"
      ]
    },
    {
      "cell_type": "code",
      "metadata": {
        "colab": {
          "base_uri": "https://localhost:8080/",
          "height": 34
        },
        "id": "gJr_9dXGpJ05",
        "outputId": "9f556d03-ec67-4950-a485-cfdba9ddd14d"
      },
      "source": [
        "seconds_in_a_day = 24 * 60 * 60\n",
        "seconds_in_a_day"
      ],
      "execution_count": null,
      "outputs": [
        {
          "output_type": "execute_result",
          "data": {
            "text/plain": [
              "86400"
            ]
          },
          "metadata": {
            "tags": []
          },
          "execution_count": 0
        }
      ]
    },
    {
      "cell_type": "markdown",
      "metadata": {
        "id": "2fhs6GZ4qFMx"
      },
      "source": [
        "To execute the code in the above cell, select it with a click and then either press the play button to the left of the code, or use the keyboard shortcut \"Command/Ctrl+Enter\". To edit the code, just click the cell and start editing.\n",
        "\n",
        "Variables that you define in one cell can later be used in other cells:"
      ]
    },
    {
      "cell_type": "code",
      "metadata": {
        "colab": {
          "base_uri": "https://localhost:8080/",
          "height": 34
        },
        "id": "-gE-Ez1qtyIA",
        "outputId": "94cb2224-0edf-457b-90b5-0ac3488d8a97"
      },
      "source": [
        "seconds_in_a_week = 7 * seconds_in_a_day\n",
        "seconds_in_a_week"
      ],
      "execution_count": null,
      "outputs": [
        {
          "output_type": "execute_result",
          "data": {
            "text/plain": [
              "604800"
            ]
          },
          "metadata": {
            "tags": []
          },
          "execution_count": 0
        }
      ]
    },
    {
      "cell_type": "markdown",
      "metadata": {
        "id": "lSrWNr3MuFUS"
      },
      "source": [
        "Colab notebooks allow you to combine **executable code** and **rich text** in a single document, along with **images**, **HTML**, **LaTeX** and more. When you create your own Colab notebooks, they are stored in your Google Drive account. You can easily share your Colab notebooks with co-workers or friends, allowing them to comment on your notebooks or even edit them. To learn more, see [Overview of Colab](/notebooks/basic_features_overview.ipynb). To create a new Colab notebook you can use the File menu above, or use the following link: [create a new Colab notebook](http://colab.research.google.com#create=true).\n",
        "\n",
        "Colab notebooks are Jupyter notebooks that are hosted by Colab. To learn more about the Jupyter project, see [jupyter.org](https://www.jupyter.org)."
      ]
    },
    {
      "cell_type": "markdown",
      "metadata": {
        "id": "UdRyKR44dcNI"
      },
      "source": [
        "## Data science\n",
        "\n",
        "With Colab you can harness the full power of popular Python libraries to analyze and visualize data. The code cell below uses **numpy** to generate some random data, and uses **matplotlib** to visualize it. To edit the code, just click the cell and start editing."
      ]
    },
    {
      "cell_type": "markdown",
      "metadata": {
        "id": "7eSnhopQykMj"
      },
      "source": [
        "# New Section"
      ]
    },
    {
      "cell_type": "code",
      "metadata": {
        "id": "OIkzCFWMzo6p"
      },
      "source": [
        "import sklearn.svm as ml\n",
        "import matplotlib.pyplot as plt\n"
      ],
      "execution_count": 212,
      "outputs": []
    },
    {
      "cell_type": "code",
      "metadata": {
        "colab": {
          "base_uri": "https://localhost:8080/",
          "height": 861
        },
        "id": "C4HZx7Gndbrh",
        "outputId": "0251dd9b-d19d-4f35-edc3-9d15bf45412d"
      },
      "source": [
        "from matplotlib import pyplot\n",
        "from matplotlib.pyplot import figure\n",
        "import pandas as pd\n",
        "import matplotlib.pyplot as plt\n",
        "import matplotlib.lines as mlines\n",
        "\n",
        "import numpy as np\n",
        "\n",
        "\n",
        "from scipy.stats import norm\n",
        "from pyts.approximation import SymbolicAggregateApproximation\n",
        "from saxpy.hotsax import find_discords_hotsax\n",
        "\n",
        "dat"
      ],
      "execution_count": 261,
      "outputs": [
        {
          "output_type": "execute_result",
          "data": {
            "text/html": [
              "<div>\n",
              "<style scoped>\n",
              "    .dataframe tbody tr th:only-of-type {\n",
              "        vertical-align: middle;\n",
              "    }\n",
              "\n",
              "    .dataframe tbody tr th {\n",
              "        vertical-align: top;\n",
              "    }\n",
              "\n",
              "    .dataframe thead th {\n",
              "        text-align: right;\n",
              "    }\n",
              "</style>\n",
              "<table border=\"1\" class=\"dataframe\">\n",
              "  <thead>\n",
              "    <tr style=\"text-align: right;\">\n",
              "      <th></th>\n",
              "      <th>Compound_Score</th>\n",
              "      <th>Total Volume of Tweets</th>\n",
              "      <th>Count_Negative</th>\n",
              "      <th>Count_Positives</th>\n",
              "      <th>Count_Neutral</th>\n",
              "      <th>Sent_Negatives</th>\n",
              "      <th>Sent_Positives</th>\n",
              "      <th>Count_News</th>\n",
              "      <th>Count_Bot</th>\n",
              "      <th>Open</th>\n",
              "      <th>High</th>\n",
              "      <th>Low</th>\n",
              "      <th>Close</th>\n",
              "      <th>VolumeBTC</th>\n",
              "      <th>Volume(Currency)</th>\n",
              "      <th>Normal</th>\n",
              "      <th>pct</th>\n",
              "      <th>shift</th>\n",
              "    </tr>\n",
              "    <tr>\n",
              "      <th>Date</th>\n",
              "      <th></th>\n",
              "      <th></th>\n",
              "      <th></th>\n",
              "      <th></th>\n",
              "      <th></th>\n",
              "      <th></th>\n",
              "      <th></th>\n",
              "      <th></th>\n",
              "      <th></th>\n",
              "      <th></th>\n",
              "      <th></th>\n",
              "      <th></th>\n",
              "      <th></th>\n",
              "      <th></th>\n",
              "      <th></th>\n",
              "      <th></th>\n",
              "      <th></th>\n",
              "      <th></th>\n",
              "    </tr>\n",
              "  </thead>\n",
              "  <tbody>\n",
              "    <tr>\n",
              "      <th>2017-08-01 01:00:00</th>\n",
              "      <td>0.053160</td>\n",
              "      <td>778.0</td>\n",
              "      <td>111.0</td>\n",
              "      <td>193.0</td>\n",
              "      <td>320.0</td>\n",
              "      <td>-0.423402</td>\n",
              "      <td>0.415385</td>\n",
              "      <td>493.0</td>\n",
              "      <td>154.0</td>\n",
              "      <td>2823.01</td>\n",
              "      <td>2860.02</td>\n",
              "      <td>2821.01</td>\n",
              "      <td>2853.38</td>\n",
              "      <td>77.3</td>\n",
              "      <td>219605.16</td>\n",
              "      <td>0.010576</td>\n",
              "      <td>0.009717</td>\n",
              "      <td>0.008971</td>\n",
              "    </tr>\n",
              "    <tr>\n",
              "      <th>2017-08-01 02:00:00</th>\n",
              "      <td>0.124251</td>\n",
              "      <td>836.0</td>\n",
              "      <td>89.0</td>\n",
              "      <td>273.0</td>\n",
              "      <td>264.0</td>\n",
              "      <td>-0.440938</td>\n",
              "      <td>0.428661</td>\n",
              "      <td>510.0</td>\n",
              "      <td>210.0</td>\n",
              "      <td>2846.27</td>\n",
              "      <td>2858.04</td>\n",
              "      <td>2837.31</td>\n",
              "      <td>2841.60</td>\n",
              "      <td>135.83</td>\n",
              "      <td>386739.15</td>\n",
              "      <td>0.009887</td>\n",
              "      <td>-0.004128</td>\n",
              "      <td>0.010576</td>\n",
              "    </tr>\n",
              "    <tr>\n",
              "      <th>2017-08-01 03:00:00</th>\n",
              "      <td>-0.021037</td>\n",
              "      <td>984.0</td>\n",
              "      <td>250.0</td>\n",
              "      <td>236.0</td>\n",
              "      <td>314.0</td>\n",
              "      <td>-0.441173</td>\n",
              "      <td>0.396034</td>\n",
              "      <td>683.0</td>\n",
              "      <td>184.0</td>\n",
              "      <td>2841.84</td>\n",
              "      <td>2863.88</td>\n",
              "      <td>2837.73</td>\n",
              "      <td>2862.93</td>\n",
              "      <td>143.2</td>\n",
              "      <td>408360.03</td>\n",
              "      <td>0.011134</td>\n",
              "      <td>0.007506</td>\n",
              "      <td>0.009887</td>\n",
              "    </tr>\n",
              "    <tr>\n",
              "      <th>2017-08-01 04:00:00</th>\n",
              "      <td>0.055437</td>\n",
              "      <td>751.0</td>\n",
              "      <td>114.0</td>\n",
              "      <td>195.0</td>\n",
              "      <td>305.0</td>\n",
              "      <td>-0.414978</td>\n",
              "      <td>0.417159</td>\n",
              "      <td>517.0</td>\n",
              "      <td>137.0</td>\n",
              "      <td>2862.92</td>\n",
              "      <td>2876.00</td>\n",
              "      <td>2848.11</td>\n",
              "      <td>2874.99</td>\n",
              "      <td>222.53</td>\n",
              "      <td>637045.88</td>\n",
              "      <td>0.011839</td>\n",
              "      <td>0.004212</td>\n",
              "      <td>0.011134</td>\n",
              "    </tr>\n",
              "    <tr>\n",
              "      <th>2017-08-01 05:00:00</th>\n",
              "      <td>0.093444</td>\n",
              "      <td>842.0</td>\n",
              "      <td>120.0</td>\n",
              "      <td>286.0</td>\n",
              "      <td>303.0</td>\n",
              "      <td>-0.424966</td>\n",
              "      <td>0.409956</td>\n",
              "      <td>563.0</td>\n",
              "      <td>133.0</td>\n",
              "      <td>2872.03</td>\n",
              "      <td>2929.17</td>\n",
              "      <td>2865.01</td>\n",
              "      <td>2900.00</td>\n",
              "      <td>415.97</td>\n",
              "      <td>1208323.94</td>\n",
              "      <td>0.013300</td>\n",
              "      <td>0.008699</td>\n",
              "      <td>0.011839</td>\n",
              "    </tr>\n",
              "    <tr>\n",
              "      <th>...</th>\n",
              "      <td>...</td>\n",
              "      <td>...</td>\n",
              "      <td>...</td>\n",
              "      <td>...</td>\n",
              "      <td>...</td>\n",
              "      <td>...</td>\n",
              "      <td>...</td>\n",
              "      <td>...</td>\n",
              "      <td>...</td>\n",
              "      <td>...</td>\n",
              "      <td>...</td>\n",
              "      <td>...</td>\n",
              "      <td>...</td>\n",
              "      <td>...</td>\n",
              "      <td>...</td>\n",
              "      <td>...</td>\n",
              "      <td>...</td>\n",
              "      <td>...</td>\n",
              "    </tr>\n",
              "    <tr>\n",
              "      <th>2019-01-21 19:00:00</th>\n",
              "      <td>0.048459</td>\n",
              "      <td>1060.0</td>\n",
              "      <td>282.0</td>\n",
              "      <td>342.0</td>\n",
              "      <td>277.0</td>\n",
              "      <td>-0.418572</td>\n",
              "      <td>0.472804</td>\n",
              "      <td>639.0</td>\n",
              "      <td>159.0</td>\n",
              "      <td>3580.20</td>\n",
              "      <td>3585.98</td>\n",
              "      <td>3579.05</td>\n",
              "      <td>3579.58</td>\n",
              "      <td>89808566</td>\n",
              "      <td>27200000000000000,00</td>\n",
              "      <td>0.053013</td>\n",
              "      <td>0.000293</td>\n",
              "      <td>0.052951</td>\n",
              "    </tr>\n",
              "    <tr>\n",
              "      <th>2019-01-21 20:00:00</th>\n",
              "      <td>0.059675</td>\n",
              "      <td>978.0</td>\n",
              "      <td>235.0</td>\n",
              "      <td>331.0</td>\n",
              "      <td>307.0</td>\n",
              "      <td>-0.441124</td>\n",
              "      <td>0.470575</td>\n",
              "      <td>645.0</td>\n",
              "      <td>105.0</td>\n",
              "      <td>3578.11</td>\n",
              "      <td>3581.83</td>\n",
              "      <td>3576.98</td>\n",
              "      <td>3580.66</td>\n",
              "      <td>771295569</td>\n",
              "      <td>26700000000000000,00</td>\n",
              "      <td>0.053076</td>\n",
              "      <td>0.000302</td>\n",
              "      <td>0.053013</td>\n",
              "    </tr>\n",
              "    <tr>\n",
              "      <th>2019-01-21 21:00:00</th>\n",
              "      <td>0.111140</td>\n",
              "      <td>917.0</td>\n",
              "      <td>176.0</td>\n",
              "      <td>350.0</td>\n",
              "      <td>268.0</td>\n",
              "      <td>-0.476070</td>\n",
              "      <td>0.491524</td>\n",
              "      <td>528.0</td>\n",
              "      <td>123.0</td>\n",
              "      <td>3580.26</td>\n",
              "      <td>3582.38</td>\n",
              "      <td>3559.74</td>\n",
              "      <td>3560.70</td>\n",
              "      <td>117607867</td>\n",
              "      <td>2670000000000000,00</td>\n",
              "      <td>0.051909</td>\n",
              "      <td>-0.005574</td>\n",
              "      <td>0.053076</td>\n",
              "    </tr>\n",
              "    <tr>\n",
              "      <th>2019-01-21 22:00:00</th>\n",
              "      <td>0.057693</td>\n",
              "      <td>929.0</td>\n",
              "      <td>237.0</td>\n",
              "      <td>317.0</td>\n",
              "      <td>266.0</td>\n",
              "      <td>-0.408008</td>\n",
              "      <td>0.454277</td>\n",
              "      <td>534.0</td>\n",
              "      <td>109.0</td>\n",
              "      <td>3561.58</td>\n",
              "      <td>3569.04</td>\n",
              "      <td>3535.19</td>\n",
              "      <td>3567.92</td>\n",
              "      <td>18324.54</td>\n",
              "      <td>2750000000000000,00</td>\n",
              "      <td>0.052331</td>\n",
              "      <td>0.002028</td>\n",
              "      <td>0.051909</td>\n",
              "    </tr>\n",
              "    <tr>\n",
              "      <th>2019-01-21 23:00:00</th>\n",
              "      <td>0.114312</td>\n",
              "      <td>899.0</td>\n",
              "      <td>150.0</td>\n",
              "      <td>296.0</td>\n",
              "      <td>287.0</td>\n",
              "      <td>-0.379605</td>\n",
              "      <td>0.475444</td>\n",
              "      <td>467.0</td>\n",
              "      <td>166.0</td>\n",
              "      <td>3569.34</td>\n",
              "      <td>3579.33</td>\n",
              "      <td>3569.34</td>\n",
              "      <td>3573.67</td>\n",
              "      <td>10105.2</td>\n",
              "      <td>2760000000000000,00</td>\n",
              "      <td>0.052667</td>\n",
              "      <td>0.001612</td>\n",
              "      <td>0.052331</td>\n",
              "    </tr>\n",
              "  </tbody>\n",
              "</table>\n",
              "<p>12303 rows × 18 columns</p>\n",
              "</div>"
            ],
            "text/plain": [
              "                     Compound_Score  Total Volume of Tweets  ...       pct     shift\n",
              "Date                                                         ...                    \n",
              "2017-08-01 01:00:00        0.053160                   778.0  ...  0.009717  0.008971\n",
              "2017-08-01 02:00:00        0.124251                   836.0  ... -0.004128  0.010576\n",
              "2017-08-01 03:00:00       -0.021037                   984.0  ...  0.007506  0.009887\n",
              "2017-08-01 04:00:00        0.055437                   751.0  ...  0.004212  0.011134\n",
              "2017-08-01 05:00:00        0.093444                   842.0  ...  0.008699  0.011839\n",
              "...                             ...                     ...  ...       ...       ...\n",
              "2019-01-21 19:00:00        0.048459                  1060.0  ...  0.000293  0.052951\n",
              "2019-01-21 20:00:00        0.059675                   978.0  ...  0.000302  0.053013\n",
              "2019-01-21 21:00:00        0.111140                   917.0  ... -0.005574  0.053076\n",
              "2019-01-21 22:00:00        0.057693                   929.0  ...  0.002028  0.051909\n",
              "2019-01-21 23:00:00        0.114312                   899.0  ...  0.001612  0.052331\n",
              "\n",
              "[12303 rows x 18 columns]"
            ]
          },
          "metadata": {
            "tags": []
          },
          "execution_count": 261
        }
      ]
    },
    {
      "cell_type": "code",
      "metadata": {
        "id": "NrKdaeht2o1U"
      },
      "source": [
        "dat['pct'] = dat['Close'].pct_change(1)\n",
        "\n",
        "dat['shift'] = dat['Normal'].shift(1)\n",
        "\n",
        "dat['shiftpos'] = dat['Sent_Positives'].shift(1)\n",
        "dat = dat.dropna()\n",
        "\n",
        "train['normal'] = dat['Normal']['2017']\n",
        "train['shift'] = dat['shift']['2017']\n",
        "test['normal'] = dat['Normal']['2018']\n",
        "test['shift'] = dat['shift']['2018']\n",
        "train['pos'] = dat['Sent_Positives']['2017']\n",
        "test['pos'] = dat['Sent_Positives']['2018']\n",
        "train['shiftpos'] = dat['shiftpos']['2017']\n",
        "test['shiftpos'] = dat['shiftpos']['2018']"
      ],
      "execution_count": 272,
      "outputs": []
    },
    {
      "cell_type": "code",
      "metadata": {
        "id": "w7oyf92gAHWO"
      },
      "source": [
        ""
      ],
      "execution_count": 205,
      "outputs": []
    },
    {
      "cell_type": "code",
      "metadata": {
        "colab": {
          "base_uri": "https://localhost:8080/",
          "height": 554
        },
        "id": "BDku6ZrX74CY",
        "outputId": "d7e0a760-1158-41c2-a13d-479abbd933ac"
      },
      "source": [
        "svmt = ml.SVR(kernel='linear', C=1000.0, epsilon = 0.1).fit(np.array(train['pos']).reshape(-1,1), train['normal'])\n",
        "svmtfv = svmt.predict(np.array(train['shiftpos']).reshape(-1,1))\n",
        "svmtfv = pd.DataFrame(svmtfv).set_index(dat['2017'].index)\n",
        "\n",
        "\n",
        "train['normal'].plot()\n",
        "svmtfv.plot()\n"
      ],
      "execution_count": 300,
      "outputs": [
        {
          "output_type": "execute_result",
          "data": {
            "text/plain": [
              "<matplotlib.axes._subplots.AxesSubplot at 0x7ff026828748>"
            ]
          },
          "metadata": {
            "tags": []
          },
          "execution_count": 300
        },
        {
          "output_type": "display_data",
          "data": {
            "image/png": "[encoded data removed]",
            "text/plain": [
              "<Figure size 432x288 with 1 Axes>"
            ]
          },
          "metadata": {
            "tags": [],
            "needs_background": "light"
          }
        },
        {
          "output_type": "display_data",
          "data": {
            "image/png": "[encoded data removed]",
            "text/plain": [
              "<Figure size 432x288 with 1 Axes>"
            ]
          },
          "metadata": {
            "tags": [],
            "needs_background": "light"
          }
        }
      ]
    },
    {
      "cell_type": "code",
      "metadata": {
        "colab": {
          "base_uri": "https://localhost:8080/"
        },
        "id": "W4tUllNpIQP_",
        "outputId": "5ff5213d-b81c-4e13-972e-e07c17b26b22"
      },
      "source": [
        "svmt.score(np.array(train['pos']).reshape(-1,1),np.array(train['normal']))"
      ],
      "execution_count": 301,
      "outputs": [
        {
          "output_type": "execute_result",
          "data": {
            "text/plain": [
              "0.07449751821263251"
            ]
          },
          "metadata": {
            "tags": []
          },
          "execution_count": 301
        }
      ]
    },
    {
      "cell_type": "code",
      "metadata": {
        "colab": {
          "base_uri": "https://localhost:8080/"
        },
        "id": "uJrx3YmqD4Qz",
        "outputId": "ea97d73b-cb7e-4a2d-cec6-e23b44d649a6"
      },
      "source": [
        "from sklearn import metrics\n",
        "svmt.score(np.array(test['shift']).reshape(-1,1),np.array(test['normal']))"
      ],
      "execution_count": 302,
      "outputs": [
        {
          "output_type": "execute_result",
          "data": {
            "text/plain": [
              "-8.531948984042176"
            ]
          },
          "metadata": {
            "tags": []
          },
          "execution_count": 302
        }
      ]
    },
    {
      "cell_type": "code",
      "metadata": {
        "colab": {
          "base_uri": "https://localhost:8080/",
          "height": 861
        },
        "id": "B7iinOe8zIzF",
        "outputId": "0fa23a3b-342a-4778-e856-e1e4d9dfdff6"
      },
      "source": [
        "colnames = ['Date', 'Compound_Score', 'Total Volume of Tweets', 'Count_Negative', 'Count_Positives', 'Count_Neutral', 'Sent_Negatives', 'Sent_Positives', 'Count_News', 'Count_Bot', 'Open', 'High', 'Low', 'Close', 'VolumeBTC', 'Volume(Currency)']\n",
        "dat=pd.read_csv('/var/opt/df_Final.csv', names=colnames, sep=';', skiprows=1)\n",
        "dat.tail(24)\n",
        "\n",
        "dat1col = dat['Close']\n",
        "def normalize_data(df):\n",
        "    # df on input should contain only one column with the price data (plus dataframe index)\n",
        "    min = df.min()\n",
        "    max = df.max()\n",
        "    x = df\n",
        "    \n",
        "    # time series normalization part\n",
        "    # y will be a column in a dataframe\n",
        "    y = (x - min) / (max - min)\n",
        "    \n",
        "    return y\n",
        "\n",
        "dat['Normal'] = normalize_data(dat1col)\n",
        "\n",
        "dat['Normal'].values.reshape(-1,1)\n",
        "\n",
        "\n",
        "dat['Date'] = pd.to_datetime(dat[\"Date\"], format='%Y-%m-%d %H:%M:%S')\n",
        "dat.set_index('Date', inplace=True)\n",
        "dat\n"
      ],
      "execution_count": 211,
      "outputs": [
        {
          "output_type": "execute_result",
          "data": {
            "text/html": [
              "<div>\n",
              "<style scoped>\n",
              "    .dataframe tbody tr th:only-of-type {\n",
              "        vertical-align: middle;\n",
              "    }\n",
              "\n",
              "    .dataframe tbody tr th {\n",
              "        vertical-align: top;\n",
              "    }\n",
              "\n",
              "    .dataframe thead th {\n",
              "        text-align: right;\n",
              "    }\n",
              "</style>\n",
              "<table border=\"1\" class=\"dataframe\">\n",
              "  <thead>\n",
              "    <tr style=\"text-align: right;\">\n",
              "      <th></th>\n",
              "      <th>Compound_Score</th>\n",
              "      <th>Total Volume of Tweets</th>\n",
              "      <th>Count_Negative</th>\n",
              "      <th>Count_Positives</th>\n",
              "      <th>Count_Neutral</th>\n",
              "      <th>Sent_Negatives</th>\n",
              "      <th>Sent_Positives</th>\n",
              "      <th>Count_News</th>\n",
              "      <th>Count_Bot</th>\n",
              "      <th>Open</th>\n",
              "      <th>High</th>\n",
              "      <th>Low</th>\n",
              "      <th>Close</th>\n",
              "      <th>VolumeBTC</th>\n",
              "      <th>Volume(Currency)</th>\n",
              "      <th>Normal</th>\n",
              "    </tr>\n",
              "    <tr>\n",
              "      <th>Date</th>\n",
              "      <th></th>\n",
              "      <th></th>\n",
              "      <th></th>\n",
              "      <th></th>\n",
              "      <th></th>\n",
              "      <th></th>\n",
              "      <th></th>\n",
              "      <th></th>\n",
              "      <th></th>\n",
              "      <th></th>\n",
              "      <th></th>\n",
              "      <th></th>\n",
              "      <th></th>\n",
              "      <th></th>\n",
              "      <th></th>\n",
              "      <th></th>\n",
              "    </tr>\n",
              "  </thead>\n",
              "  <tbody>\n",
              "    <tr>\n",
              "      <th>2017-08-01 00:00:00</th>\n",
              "      <td>0.082893</td>\n",
              "      <td>1027.0</td>\n",
              "      <td>139.0</td>\n",
              "      <td>347.0</td>\n",
              "      <td>397.0</td>\n",
              "      <td>-0.516620</td>\n",
              "      <td>0.417882</td>\n",
              "      <td>695.0</td>\n",
              "      <td>144.0</td>\n",
              "      <td>2855.81</td>\n",
              "      <td>2863.06</td>\n",
              "      <td>2823.00</td>\n",
              "      <td>2825.92</td>\n",
              "      <td>184.02</td>\n",
              "      <td>522951,00</td>\n",
              "      <td>0.008971</td>\n",
              "    </tr>\n",
              "    <tr>\n",
              "      <th>2017-08-01 01:00:00</th>\n",
              "      <td>0.053160</td>\n",
              "      <td>778.0</td>\n",
              "      <td>111.0</td>\n",
              "      <td>193.0</td>\n",
              "      <td>320.0</td>\n",
              "      <td>-0.423402</td>\n",
              "      <td>0.415385</td>\n",
              "      <td>493.0</td>\n",
              "      <td>154.0</td>\n",
              "      <td>2823.01</td>\n",
              "      <td>2860.02</td>\n",
              "      <td>2821.01</td>\n",
              "      <td>2853.38</td>\n",
              "      <td>77.3</td>\n",
              "      <td>219605.16</td>\n",
              "      <td>0.010576</td>\n",
              "    </tr>\n",
              "    <tr>\n",
              "      <th>2017-08-01 02:00:00</th>\n",
              "      <td>0.124251</td>\n",
              "      <td>836.0</td>\n",
              "      <td>89.0</td>\n",
              "      <td>273.0</td>\n",
              "      <td>264.0</td>\n",
              "      <td>-0.440938</td>\n",
              "      <td>0.428661</td>\n",
              "      <td>510.0</td>\n",
              "      <td>210.0</td>\n",
              "      <td>2846.27</td>\n",
              "      <td>2858.04</td>\n",
              "      <td>2837.31</td>\n",
              "      <td>2841.60</td>\n",
              "      <td>135.83</td>\n",
              "      <td>386739.15</td>\n",
              "      <td>0.009887</td>\n",
              "    </tr>\n",
              "    <tr>\n",
              "      <th>2017-08-01 03:00:00</th>\n",
              "      <td>-0.021037</td>\n",
              "      <td>984.0</td>\n",
              "      <td>250.0</td>\n",
              "      <td>236.0</td>\n",
              "      <td>314.0</td>\n",
              "      <td>-0.441173</td>\n",
              "      <td>0.396034</td>\n",
              "      <td>683.0</td>\n",
              "      <td>184.0</td>\n",
              "      <td>2841.84</td>\n",
              "      <td>2863.88</td>\n",
              "      <td>2837.73</td>\n",
              "      <td>2862.93</td>\n",
              "      <td>143.2</td>\n",
              "      <td>408360.03</td>\n",
              "      <td>0.011134</td>\n",
              "    </tr>\n",
              "    <tr>\n",
              "      <th>2017-08-01 04:00:00</th>\n",
              "      <td>0.055437</td>\n",
              "      <td>751.0</td>\n",
              "      <td>114.0</td>\n",
              "      <td>195.0</td>\n",
              "      <td>305.0</td>\n",
              "      <td>-0.414978</td>\n",
              "      <td>0.417159</td>\n",
              "      <td>517.0</td>\n",
              "      <td>137.0</td>\n",
              "      <td>2862.92</td>\n",
              "      <td>2876.00</td>\n",
              "      <td>2848.11</td>\n",
              "      <td>2874.99</td>\n",
              "      <td>222.53</td>\n",
              "      <td>637045.88</td>\n",
              "      <td>0.011839</td>\n",
              "    </tr>\n",
              "    <tr>\n",
              "      <th>...</th>\n",
              "      <td>...</td>\n",
              "      <td>...</td>\n",
              "      <td>...</td>\n",
              "      <td>...</td>\n",
              "      <td>...</td>\n",
              "      <td>...</td>\n",
              "      <td>...</td>\n",
              "      <td>...</td>\n",
              "      <td>...</td>\n",
              "      <td>...</td>\n",
              "      <td>...</td>\n",
              "      <td>...</td>\n",
              "      <td>...</td>\n",
              "      <td>...</td>\n",
              "      <td>...</td>\n",
              "      <td>...</td>\n",
              "    </tr>\n",
              "    <tr>\n",
              "      <th>2019-01-21 19:00:00</th>\n",
              "      <td>0.048459</td>\n",
              "      <td>1060.0</td>\n",
              "      <td>282.0</td>\n",
              "      <td>342.0</td>\n",
              "      <td>277.0</td>\n",
              "      <td>-0.418572</td>\n",
              "      <td>0.472804</td>\n",
              "      <td>639.0</td>\n",
              "      <td>159.0</td>\n",
              "      <td>3580.20</td>\n",
              "      <td>3585.98</td>\n",
              "      <td>3579.05</td>\n",
              "      <td>3579.58</td>\n",
              "      <td>89808566</td>\n",
              "      <td>27200000000000000,00</td>\n",
              "      <td>0.053013</td>\n",
              "    </tr>\n",
              "    <tr>\n",
              "      <th>2019-01-21 20:00:00</th>\n",
              "      <td>0.059675</td>\n",
              "      <td>978.0</td>\n",
              "      <td>235.0</td>\n",
              "      <td>331.0</td>\n",
              "      <td>307.0</td>\n",
              "      <td>-0.441124</td>\n",
              "      <td>0.470575</td>\n",
              "      <td>645.0</td>\n",
              "      <td>105.0</td>\n",
              "      <td>3578.11</td>\n",
              "      <td>3581.83</td>\n",
              "      <td>3576.98</td>\n",
              "      <td>3580.66</td>\n",
              "      <td>771295569</td>\n",
              "      <td>26700000000000000,00</td>\n",
              "      <td>0.053076</td>\n",
              "    </tr>\n",
              "    <tr>\n",
              "      <th>2019-01-21 21:00:00</th>\n",
              "      <td>0.111140</td>\n",
              "      <td>917.0</td>\n",
              "      <td>176.0</td>\n",
              "      <td>350.0</td>\n",
              "      <td>268.0</td>\n",
              "      <td>-0.476070</td>\n",
              "      <td>0.491524</td>\n",
              "      <td>528.0</td>\n",
              "      <td>123.0</td>\n",
              "      <td>3580.26</td>\n",
              "      <td>3582.38</td>\n",
              "      <td>3559.74</td>\n",
              "      <td>3560.70</td>\n",
              "      <td>117607867</td>\n",
              "      <td>2670000000000000,00</td>\n",
              "      <td>0.051909</td>\n",
              "    </tr>\n",
              "    <tr>\n",
              "      <th>2019-01-21 22:00:00</th>\n",
              "      <td>0.057693</td>\n",
              "      <td>929.0</td>\n",
              "      <td>237.0</td>\n",
              "      <td>317.0</td>\n",
              "      <td>266.0</td>\n",
              "      <td>-0.408008</td>\n",
              "      <td>0.454277</td>\n",
              "      <td>534.0</td>\n",
              "      <td>109.0</td>\n",
              "      <td>3561.58</td>\n",
              "      <td>3569.04</td>\n",
              "      <td>3535.19</td>\n",
              "      <td>3567.92</td>\n",
              "      <td>18324.54</td>\n",
              "      <td>2750000000000000,00</td>\n",
              "      <td>0.052331</td>\n",
              "    </tr>\n",
              "    <tr>\n",
              "      <th>2019-01-21 23:00:00</th>\n",
              "      <td>0.114312</td>\n",
              "      <td>899.0</td>\n",
              "      <td>150.0</td>\n",
              "      <td>296.0</td>\n",
              "      <td>287.0</td>\n",
              "      <td>-0.379605</td>\n",
              "      <td>0.475444</td>\n",
              "      <td>467.0</td>\n",
              "      <td>166.0</td>\n",
              "      <td>3569.34</td>\n",
              "      <td>3579.33</td>\n",
              "      <td>3569.34</td>\n",
              "      <td>3573.67</td>\n",
              "      <td>10105.2</td>\n",
              "      <td>2760000000000000,00</td>\n",
              "      <td>0.052667</td>\n",
              "    </tr>\n",
              "  </tbody>\n",
              "</table>\n",
              "<p>12936 rows × 16 columns</p>\n",
              "</div>"
            ],
            "text/plain": [
              "                     Compound_Score  ...    Normal\n",
              "Date                                 ...          \n",
              "2017-08-01 00:00:00        0.082893  ...  0.008971\n",
              "2017-08-01 01:00:00        0.053160  ...  0.010576\n",
              "2017-08-01 02:00:00        0.124251  ...  0.009887\n",
              "2017-08-01 03:00:00       -0.021037  ...  0.011134\n",
              "2017-08-01 04:00:00        0.055437  ...  0.011839\n",
              "...                             ...  ...       ...\n",
              "2019-01-21 19:00:00        0.048459  ...  0.053013\n",
              "2019-01-21 20:00:00        0.059675  ...  0.053076\n",
              "2019-01-21 21:00:00        0.111140  ...  0.051909\n",
              "2019-01-21 22:00:00        0.057693  ...  0.052331\n",
              "2019-01-21 23:00:00        0.114312  ...  0.052667\n",
              "\n",
              "[12936 rows x 16 columns]"
            ]
          },
          "metadata": {
            "tags": []
          },
          "execution_count": 211
        }
      ]
    },
    {
      "cell_type": "markdown",
      "metadata": {
        "id": "4_kCnsPUqS6o"
      },
      "source": [
        "You can import your own data into Colab notebooks from your Google Drive account, including from spreadsheets, as well as from Github and many other sources. To learn more about importing data, and how Colab can be used for data science, see the links below under [Working with Data](#working-with-data)."
      ]
    },
    {
      "cell_type": "markdown",
      "metadata": {
        "id": "OwuxHmxllTwN"
      },
      "source": [
        "## Machine learning\n",
        "\n",
        "With Colab you can import an image dataset, train an image classifier on it, and evaluate the model, all in just [a few lines of code](https://colab.research.google.com/github/tensorflow/docs/blob/master/site/en/tutorials/quickstart/beginner.ipynb). Colab notebooks execute code on Google's cloud servers, meaning you can leverage the power of Google hardware, including [GPUs and TPUs](#using-accelerated-hardware), regardless of the power of your machine. All you need is a browser."
      ]
    },
    {
      "cell_type": "markdown",
      "metadata": {
        "id": "ufxBm1yRnruN"
      },
      "source": [
        "Colab is used extensively in the machine learning community with applications including:\n",
        "- Getting started with TensorFlow\n",
        "- Developing and training neural networks\n",
        "- Experimenting with TPUs\n",
        "- Disseminating AI research\n",
        "- Creating tutorials\n",
        "\n",
        "To see sample Colab notebooks that demonstrate machine learning applications, see the [machine learning examples](#machine-learning-examples) below."
      ]
    },
    {
      "cell_type": "markdown",
      "metadata": {
        "id": "-Rh3-Vt9Nev9"
      },
      "source": [
        "## More Resources\n",
        "\n",
        "### Working with Notebooks in Colab\n",
        "- [Overview of Colaboratory](/notebooks/basic_features_overview.ipynb)\n",
        "- [Guide to Markdown](/notebooks/markdown_guide.ipynb)\n",
        "- [Importing libraries and installing dependencies](/notebooks/snippets/importing_libraries.ipynb)\n",
        "- [Saving and loading notebooks in GitHub](https://colab.research.google.com/github/googlecolab/colabtools/blob/master/notebooks/colab-github-demo.ipynb)\n",
        "- [Interactive forms](/notebooks/forms.ipynb)\n",
        "- [Interactive widgets](/notebooks/widgets.ipynb)\n",
        "- <img src=\"/img/new.png\" height=\"20px\" align=\"left\" hspace=\"4px\" alt=\"New\"></img>\n",
        " [TensorFlow 2 in Colab](/notebooks/tensorflow_version.ipynb)\n",
        "\n",
        "<a name=\"working-with-data\"></a>\n",
        "### Working with Data\n",
        "- [Loading data: Drive, Sheets, and Google Cloud Storage](/notebooks/io.ipynb) \n",
        "- [Charts: visualizing data](/notebooks/charts.ipynb)\n",
        "- [Getting started with BigQuery](/notebooks/bigquery.ipynb)\n",
        "\n",
        "### Machine Learning Crash Course\n",
        "These are a few of the notebooks from Google's online Machine Learning course. See the [full course website](https://developers.google.com/machine-learning/crash-course/) for more.\n",
        "- [Intro to Pandas](/notebooks/mlcc/intro_to_pandas.ipynb)\n",
        "- [Tensorflow concepts](/notebooks/mlcc/tensorflow_programming_concepts.ipynb)\n",
        "- [First steps with TensorFlow](/notebooks/mlcc/first_steps_with_tensor_flow.ipynb)\n",
        "- [Intro to neural nets](/notebooks/mlcc/intro_to_neural_nets.ipynb)\n",
        "- [Intro to sparse data and embeddings](/notebooks/mlcc/intro_to_sparse_data_and_embeddings.ipynb)\n",
        "\n",
        "<a name=\"using-accelerated-hardware\"></a>\n",
        "### Using Accelerated Hardware\n",
        "- [TensorFlow with GPUs](/notebooks/gpu.ipynb)\n",
        "- [TensorFlow with TPUs](/notebooks/tpu.ipynb)"
      ]
    },
    {
      "cell_type": "markdown",
      "metadata": {
        "id": "P-H6Lw1vyNNd"
      },
      "source": [
        "<a name=\"machine-learning-examples\"></a>\n",
        "\n",
        "## Machine Learning Examples\n",
        "\n",
        "To see end-to-end examples of the interactive machine learning analyses that Colaboratory makes possible, check out these  tutorials using models from [TensorFlow Hub](https://tfhub.dev).\n",
        "\n",
        "A few featured examples:\n",
        "\n",
        "- [Retraining an Image Classifier](https://tensorflow.org/hub/tutorials/tf2_image_retraining): Build a Keras model on top of a pre-trained image classifier to distinguish flowers.\n",
        "- [Text Classification](https://tensorflow.org/hub/tutorials/tf2_text_classification): Classify IMDB movie reviews as either *positive* or *negative*.\n",
        "- [Style Transfer](https://tensorflow.org/hub/tutorials/tf2_arbitrary_image_stylization): Use deep learning to transfer style between images.\n",
        "- [Multilingual Universal Sentence Encoder Q&A](https://tensorflow.org/hub/tutorials/retrieval_with_tf_hub_universal_encoder_qa): Use a machine learning model to answer questions from the SQuAD dataset.\n",
        "- [Video Interpolation](https://tensorflow.org/hub/tutorials/tweening_conv3d): Predict what happened in a video between the first and the last frame.\n"
      ]
    }
  ]
}